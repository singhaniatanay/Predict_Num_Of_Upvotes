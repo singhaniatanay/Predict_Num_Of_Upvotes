{
 "cells": [
  {
   "cell_type": "code",
   "execution_count": 16,
   "metadata": {},
   "outputs": [],
   "source": [
    "import pandas as pd\n",
    "import numpy as np\n",
    "import matplotlib.pyplot as plt"
   ]
  },
  {
   "cell_type": "code",
   "execution_count": 3,
   "metadata": {},
   "outputs": [],
   "source": [
    "train = pd.read_csv('../dataset/C01-Predict_Upvote/train_NIR5Yl1.csv')\n",
    "test = pd.read_csv('../dataset/C01-Predict_Upvote/test_8i3B3FC.csv')"
   ]
  },
  {
   "cell_type": "code",
   "execution_count": 5,
   "metadata": {},
   "outputs": [
    {
     "data": {
      "text/html": [
       "<div>\n",
       "<style scoped>\n",
       "    .dataframe tbody tr th:only-of-type {\n",
       "        vertical-align: middle;\n",
       "    }\n",
       "\n",
       "    .dataframe tbody tr th {\n",
       "        vertical-align: top;\n",
       "    }\n",
       "\n",
       "    .dataframe thead th {\n",
       "        text-align: right;\n",
       "    }\n",
       "</style>\n",
       "<table border=\"1\" class=\"dataframe\">\n",
       "  <thead>\n",
       "    <tr style=\"text-align: right;\">\n",
       "      <th></th>\n",
       "      <th>ID</th>\n",
       "      <th>Tag</th>\n",
       "      <th>Reputation</th>\n",
       "      <th>Answers</th>\n",
       "      <th>Username</th>\n",
       "      <th>Views</th>\n",
       "      <th>Upvotes</th>\n",
       "    </tr>\n",
       "  </thead>\n",
       "  <tbody>\n",
       "    <tr>\n",
       "      <th>0</th>\n",
       "      <td>52664</td>\n",
       "      <td>a</td>\n",
       "      <td>3942.0</td>\n",
       "      <td>2.0</td>\n",
       "      <td>155623</td>\n",
       "      <td>7855.0</td>\n",
       "      <td>42.0</td>\n",
       "    </tr>\n",
       "    <tr>\n",
       "      <th>1</th>\n",
       "      <td>327662</td>\n",
       "      <td>a</td>\n",
       "      <td>26046.0</td>\n",
       "      <td>12.0</td>\n",
       "      <td>21781</td>\n",
       "      <td>55801.0</td>\n",
       "      <td>1175.0</td>\n",
       "    </tr>\n",
       "    <tr>\n",
       "      <th>2</th>\n",
       "      <td>468453</td>\n",
       "      <td>c</td>\n",
       "      <td>1358.0</td>\n",
       "      <td>4.0</td>\n",
       "      <td>56177</td>\n",
       "      <td>8067.0</td>\n",
       "      <td>60.0</td>\n",
       "    </tr>\n",
       "    <tr>\n",
       "      <th>3</th>\n",
       "      <td>96996</td>\n",
       "      <td>a</td>\n",
       "      <td>264.0</td>\n",
       "      <td>3.0</td>\n",
       "      <td>168793</td>\n",
       "      <td>27064.0</td>\n",
       "      <td>9.0</td>\n",
       "    </tr>\n",
       "    <tr>\n",
       "      <th>4</th>\n",
       "      <td>131465</td>\n",
       "      <td>c</td>\n",
       "      <td>4271.0</td>\n",
       "      <td>4.0</td>\n",
       "      <td>112223</td>\n",
       "      <td>13986.0</td>\n",
       "      <td>83.0</td>\n",
       "    </tr>\n",
       "  </tbody>\n",
       "</table>\n",
       "</div>"
      ],
      "text/plain": [
       "       ID Tag  Reputation  Answers  Username    Views  Upvotes\n",
       "0   52664   a      3942.0      2.0    155623   7855.0     42.0\n",
       "1  327662   a     26046.0     12.0     21781  55801.0   1175.0\n",
       "2  468453   c      1358.0      4.0     56177   8067.0     60.0\n",
       "3   96996   a       264.0      3.0    168793  27064.0      9.0\n",
       "4  131465   c      4271.0      4.0    112223  13986.0     83.0"
      ]
     },
     "execution_count": 5,
     "metadata": {},
     "output_type": "execute_result"
    }
   ],
   "source": [
    "train.head()"
   ]
  },
  {
   "cell_type": "code",
   "execution_count": 6,
   "metadata": {},
   "outputs": [
    {
     "name": "stdout",
     "output_type": "stream",
     "text": [
      "                  ID    Reputation        Answers       Username  \\\n",
      "count  330045.000000  3.300450e+05  330045.000000  330045.000000   \n",
      "mean   235748.682789  7.773147e+03       3.917672   81442.888803   \n",
      "std    136039.418471  2.706141e+04       3.579515   49215.100730   \n",
      "min         1.000000  0.000000e+00       0.000000       0.000000   \n",
      "25%    117909.000000  2.820000e+02       2.000000   39808.000000   \n",
      "50%    235699.000000  1.236000e+03       3.000000   79010.000000   \n",
      "75%    353620.000000  5.118000e+03       5.000000  122559.000000   \n",
      "max    471493.000000  1.042428e+06      76.000000  175738.000000   \n",
      "\n",
      "              Views        Upvotes  \n",
      "count  3.300450e+05  330045.000000  \n",
      "mean   2.964507e+04     337.505358  \n",
      "std    8.095646e+04    3592.441135  \n",
      "min    9.000000e+00       0.000000  \n",
      "25%    2.594000e+03       8.000000  \n",
      "50%    8.954000e+03      28.000000  \n",
      "75%    2.687000e+04     107.000000  \n",
      "max    5.231058e+06  615278.000000  \n"
     ]
    }
   ],
   "source": [
    "print(train.describe())"
   ]
  },
  {
   "cell_type": "code",
   "execution_count": 13,
   "metadata": {},
   "outputs": [],
   "source": [
    "meta_feature1 = train['Username'].value_counts().to_dict()"
   ]
  },
  {
   "cell_type": "code",
   "execution_count": 14,
   "metadata": {},
   "outputs": [],
   "source": [
    "meta_feature2 = train['Tag'].value_counts().to_dict()"
   ]
  },
  {
   "cell_type": "code",
   "execution_count": 35,
   "metadata": {},
   "outputs": [],
   "source": [
    "mf1_ = [meta_feature1[x] for x in train['Username']]\n",
    "mf2_ = [meta_feature2[x] for x in train['Tag']]"
   ]
  },
  {
   "cell_type": "code",
   "execution_count": 36,
   "metadata": {},
   "outputs": [],
   "source": [
    "train['User_Count_Meta'] = mf1_\n",
    "train['Tag_Count_Meta'] = mf2_"
   ]
  },
  {
   "cell_type": "code",
   "execution_count": 47,
   "metadata": {},
   "outputs": [
    {
     "data": {
      "text/html": [
       "<div>\n",
       "<style scoped>\n",
       "    .dataframe tbody tr th:only-of-type {\n",
       "        vertical-align: middle;\n",
       "    }\n",
       "\n",
       "    .dataframe tbody tr th {\n",
       "        vertical-align: top;\n",
       "    }\n",
       "\n",
       "    .dataframe thead th {\n",
       "        text-align: right;\n",
       "    }\n",
       "</style>\n",
       "<table border=\"1\" class=\"dataframe\">\n",
       "  <thead>\n",
       "    <tr style=\"text-align: right;\">\n",
       "      <th></th>\n",
       "      <th>ID</th>\n",
       "      <th>Reputation</th>\n",
       "      <th>Answers</th>\n",
       "      <th>Username</th>\n",
       "      <th>Views</th>\n",
       "      <th>Upvotes</th>\n",
       "      <th>User_Count_Meta</th>\n",
       "      <th>Tag_Count_Meta</th>\n",
       "      <th>Tag_a</th>\n",
       "      <th>Tag_c</th>\n",
       "      <th>Tag_h</th>\n",
       "      <th>Tag_i</th>\n",
       "      <th>Tag_j</th>\n",
       "      <th>Tag_o</th>\n",
       "      <th>Tag_p</th>\n",
       "      <th>Tag_r</th>\n",
       "      <th>Tag_s</th>\n",
       "      <th>Tag_x</th>\n",
       "    </tr>\n",
       "  </thead>\n",
       "  <tbody>\n",
       "    <tr>\n",
       "      <th>0</th>\n",
       "      <td>52664</td>\n",
       "      <td>3942.0</td>\n",
       "      <td>2.0</td>\n",
       "      <td>155623</td>\n",
       "      <td>7855.0</td>\n",
       "      <td>42.0</td>\n",
       "      <td>19</td>\n",
       "      <td>31695</td>\n",
       "      <td>1</td>\n",
       "      <td>0</td>\n",
       "      <td>0</td>\n",
       "      <td>0</td>\n",
       "      <td>0</td>\n",
       "      <td>0</td>\n",
       "      <td>0</td>\n",
       "      <td>0</td>\n",
       "      <td>0</td>\n",
       "      <td>0</td>\n",
       "    </tr>\n",
       "    <tr>\n",
       "      <th>1</th>\n",
       "      <td>327662</td>\n",
       "      <td>26046.0</td>\n",
       "      <td>12.0</td>\n",
       "      <td>21781</td>\n",
       "      <td>55801.0</td>\n",
       "      <td>1175.0</td>\n",
       "      <td>2</td>\n",
       "      <td>31695</td>\n",
       "      <td>1</td>\n",
       "      <td>0</td>\n",
       "      <td>0</td>\n",
       "      <td>0</td>\n",
       "      <td>0</td>\n",
       "      <td>0</td>\n",
       "      <td>0</td>\n",
       "      <td>0</td>\n",
       "      <td>0</td>\n",
       "      <td>0</td>\n",
       "    </tr>\n",
       "    <tr>\n",
       "      <th>2</th>\n",
       "      <td>468453</td>\n",
       "      <td>1358.0</td>\n",
       "      <td>4.0</td>\n",
       "      <td>56177</td>\n",
       "      <td>8067.0</td>\n",
       "      <td>60.0</td>\n",
       "      <td>1</td>\n",
       "      <td>72458</td>\n",
       "      <td>0</td>\n",
       "      <td>1</td>\n",
       "      <td>0</td>\n",
       "      <td>0</td>\n",
       "      <td>0</td>\n",
       "      <td>0</td>\n",
       "      <td>0</td>\n",
       "      <td>0</td>\n",
       "      <td>0</td>\n",
       "      <td>0</td>\n",
       "    </tr>\n",
       "    <tr>\n",
       "      <th>3</th>\n",
       "      <td>96996</td>\n",
       "      <td>264.0</td>\n",
       "      <td>3.0</td>\n",
       "      <td>168793</td>\n",
       "      <td>27064.0</td>\n",
       "      <td>9.0</td>\n",
       "      <td>3</td>\n",
       "      <td>31695</td>\n",
       "      <td>1</td>\n",
       "      <td>0</td>\n",
       "      <td>0</td>\n",
       "      <td>0</td>\n",
       "      <td>0</td>\n",
       "      <td>0</td>\n",
       "      <td>0</td>\n",
       "      <td>0</td>\n",
       "      <td>0</td>\n",
       "      <td>0</td>\n",
       "    </tr>\n",
       "    <tr>\n",
       "      <th>4</th>\n",
       "      <td>131465</td>\n",
       "      <td>4271.0</td>\n",
       "      <td>4.0</td>\n",
       "      <td>112223</td>\n",
       "      <td>13986.0</td>\n",
       "      <td>83.0</td>\n",
       "      <td>3</td>\n",
       "      <td>72458</td>\n",
       "      <td>0</td>\n",
       "      <td>1</td>\n",
       "      <td>0</td>\n",
       "      <td>0</td>\n",
       "      <td>0</td>\n",
       "      <td>0</td>\n",
       "      <td>0</td>\n",
       "      <td>0</td>\n",
       "      <td>0</td>\n",
       "      <td>0</td>\n",
       "    </tr>\n",
       "  </tbody>\n",
       "</table>\n",
       "</div>"
      ],
      "text/plain": [
       "       ID  Reputation  Answers  Username    Views  Upvotes  User_Count_Meta  \\\n",
       "0   52664      3942.0      2.0    155623   7855.0     42.0               19   \n",
       "1  327662     26046.0     12.0     21781  55801.0   1175.0                2   \n",
       "2  468453      1358.0      4.0     56177   8067.0     60.0                1   \n",
       "3   96996       264.0      3.0    168793  27064.0      9.0                3   \n",
       "4  131465      4271.0      4.0    112223  13986.0     83.0                3   \n",
       "\n",
       "   Tag_Count_Meta  Tag_a  Tag_c  Tag_h  Tag_i  Tag_j  Tag_o  Tag_p  Tag_r  \\\n",
       "0           31695      1      0      0      0      0      0      0      0   \n",
       "1           31695      1      0      0      0      0      0      0      0   \n",
       "2           72458      0      1      0      0      0      0      0      0   \n",
       "3           31695      1      0      0      0      0      0      0      0   \n",
       "4           72458      0      1      0      0      0      0      0      0   \n",
       "\n",
       "   Tag_s  Tag_x  \n",
       "0      0      0  \n",
       "1      0      0  \n",
       "2      0      0  \n",
       "3      0      0  \n",
       "4      0      0  "
      ]
     },
     "execution_count": 47,
     "metadata": {},
     "output_type": "execute_result"
    }
   ],
   "source": [
    "train.head()"
   ]
  },
  {
   "cell_type": "code",
   "execution_count": 38,
   "metadata": {},
   "outputs": [],
   "source": [
    "y = pd.get_dummies(train.Tag, prefix='Tag')"
   ]
  },
  {
   "cell_type": "code",
   "execution_count": 41,
   "metadata": {},
   "outputs": [],
   "source": [
    "for x in y.columns:\n",
    "    train[x] = y[x]"
   ]
  },
  {
   "cell_type": "code",
   "execution_count": 46,
   "metadata": {},
   "outputs": [],
   "source": [
    "train = train.drop(columns='Tag')"
   ]
  },
  {
   "cell_type": "code",
   "execution_count": 52,
   "metadata": {},
   "outputs": [],
   "source": [
    "y = train.loc[:,'Upvotes']"
   ]
  },
  {
   "cell_type": "code",
   "execution_count": 54,
   "metadata": {},
   "outputs": [],
   "source": [
    "X = train.drop(columns=['ID','Upvotes'])"
   ]
  },
  {
   "cell_type": "code",
   "execution_count": null,
   "metadata": {},
   "outputs": [],
   "source": []
  },
  {
   "cell_type": "code",
   "execution_count": null,
   "metadata": {},
   "outputs": [],
   "source": []
  }
 ],
 "metadata": {
  "kernelspec": {
   "display_name": "Python 3",
   "language": "python",
   "name": "python3"
  },
  "language_info": {
   "codemirror_mode": {
    "name": "ipython",
    "version": 3
   },
   "file_extension": ".py",
   "mimetype": "text/x-python",
   "name": "python",
   "nbconvert_exporter": "python",
   "pygments_lexer": "ipython3",
   "version": "3.7.4"
  }
 },
 "nbformat": 4,
 "nbformat_minor": 2
}
